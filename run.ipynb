{
 "cells": [
  {
   "cell_type": "code",
   "execution_count": 1,
   "metadata": {
    "pycharm": {
     "is_executing": false
    }
   },
   "outputs": [],
   "source": [
    "%matplotlib inline\n",
    "\n",
    "import matplotlib.image as mpimg\n",
    "import numpy as np\n",
    "import matplotlib.pyplot as plt\n",
    "import os,sys\n",
    "\n",
    "from PIL import Image\n",
    "from utils.helpers import *"
   ]
  },
  {
   "cell_type": "code",
   "execution_count": 2,
   "metadata": {
    "pycharm": {
     "is_executing": false
    }
   },
   "outputs": [
    {
     "name": "stderr",
     "output_type": "stream",
     "text": [
      "/Users/olivier/anaconda3/envs/ml/lib/python3.7/site-packages/tensorflow/python/framework/dtypes.py:526: FutureWarning: Passing (type, 1) or '1type' as a synonym of type is deprecated; in a future version of numpy, it will be understood as (type, (1,)) / '(1,)type'.\n",
      "  _np_qint8 = np.dtype([(\"qint8\", np.int8, 1)])\n",
      "/Users/olivier/anaconda3/envs/ml/lib/python3.7/site-packages/tensorflow/python/framework/dtypes.py:527: FutureWarning: Passing (type, 1) or '1type' as a synonym of type is deprecated; in a future version of numpy, it will be understood as (type, (1,)) / '(1,)type'.\n",
      "  _np_quint8 = np.dtype([(\"quint8\", np.uint8, 1)])\n",
      "/Users/olivier/anaconda3/envs/ml/lib/python3.7/site-packages/tensorflow/python/framework/dtypes.py:528: FutureWarning: Passing (type, 1) or '1type' as a synonym of type is deprecated; in a future version of numpy, it will be understood as (type, (1,)) / '(1,)type'.\n",
      "  _np_qint16 = np.dtype([(\"qint16\", np.int16, 1)])\n",
      "/Users/olivier/anaconda3/envs/ml/lib/python3.7/site-packages/tensorflow/python/framework/dtypes.py:529: FutureWarning: Passing (type, 1) or '1type' as a synonym of type is deprecated; in a future version of numpy, it will be understood as (type, (1,)) / '(1,)type'.\n",
      "  _np_quint16 = np.dtype([(\"quint16\", np.uint16, 1)])\n",
      "/Users/olivier/anaconda3/envs/ml/lib/python3.7/site-packages/tensorflow/python/framework/dtypes.py:530: FutureWarning: Passing (type, 1) or '1type' as a synonym of type is deprecated; in a future version of numpy, it will be understood as (type, (1,)) / '(1,)type'.\n",
      "  _np_qint32 = np.dtype([(\"qint32\", np.int32, 1)])\n",
      "/Users/olivier/anaconda3/envs/ml/lib/python3.7/site-packages/tensorflow/python/framework/dtypes.py:535: FutureWarning: Passing (type, 1) or '1type' as a synonym of type is deprecated; in a future version of numpy, it will be understood as (type, (1,)) / '(1,)type'.\n",
      "  np_resource = np.dtype([(\"resource\", np.ubyte, 1)])\n"
     ]
    }
   ],
   "source": [
    "from src.unet_keras import *"
   ]
  },
  {
   "cell_type": "code",
   "execution_count": 3,
   "metadata": {},
   "outputs": [
    {
     "name": "stdout",
     "output_type": "stream",
     "text": [
      "Loading 20 images\n",
      "satImage_052.png\n",
      "Loading 20 images\n",
      "satImage_052.png\n"
     ]
    }
   ],
   "source": [
    "# Loaded a set of images\n",
    "root_dir = \"data/training/\"\n",
    "\n",
    "image_dir = root_dir + \"images/\"\n",
    "files = os.listdir(image_dir)\n",
    "n = min(20, len(files)) # Load maximum 20 images\n",
    "print(\"Loading \" + str(n) + \" images\")\n",
    "imgs = [load_image(image_dir + files[i]) for i in range(n)]\n",
    "print(files[0])\n",
    "\n",
    "gt_dir = root_dir + \"groundtruth/\"\n",
    "print(\"Loading \" + str(n) + \" images\")\n",
    "gt_imgs = [load_image(gt_dir + files[i]) for i in range(n)]\n",
    "print(files[0])"
   ]
  },
  {
   "cell_type": "code",
   "execution_count": 4,
   "metadata": {},
   "outputs": [],
   "source": [
    "x = np.asarray(imgs)\n",
    "y = np.expand_dims(np.asarray(gt_imgs), axis=3)\n",
    "\n",
    "x_train = x[:12]\n",
    "y_train = y[:12]\n",
    "\n",
    "x_val = x[12:15]\n",
    "y_val = y[12:15]\n",
    "\n",
    "x_test = x[15:]\n",
    "y_test = y[15:]"
   ]
  },
  {
   "cell_type": "code",
   "execution_count": 5,
   "metadata": {},
   "outputs": [
    {
     "data": {
      "text/plain": [
       "(12, 400, 400, 3)"
      ]
     },
     "execution_count": 5,
     "metadata": {},
     "output_type": "execute_result"
    }
   ],
   "source": [
    "x_train.shape"
   ]
  },
  {
   "cell_type": "code",
   "execution_count": 6,
   "metadata": {},
   "outputs": [
    {
     "data": {
      "text/plain": [
       "(12, 400, 400, 1)"
      ]
     },
     "execution_count": 6,
     "metadata": {},
     "output_type": "execute_result"
    }
   ],
   "source": [
    "y_train.shape"
   ]
  },
  {
   "cell_type": "code",
   "execution_count": 7,
   "metadata": {},
   "outputs": [
    {
     "data": {
      "text/plain": [
       "(1, 400, 400, 3)"
      ]
     },
     "execution_count": 7,
     "metadata": {},
     "output_type": "execute_result"
    }
   ],
   "source": [
    "x_test[:1].shape"
   ]
  },
  {
   "cell_type": "code",
   "execution_count": 13,
   "metadata": {},
   "outputs": [
    {
     "data": {
      "text/plain": [
       "array([[[121., 113.,  99.],\n",
       "        [117., 108.,  94.],\n",
       "        [122., 113., 100.],\n",
       "        ...,\n",
       "        [110., 107., 100.],\n",
       "        [108., 105.,  97.],\n",
       "        [106., 103.,  96.]],\n",
       "\n",
       "       [[117., 107.,  94.],\n",
       "        [117., 109.,  94.],\n",
       "        [126., 118., 105.],\n",
       "        ...,\n",
       "        [105., 102.,  94.],\n",
       "        [101.,  98.,  91.],\n",
       "        [100.,  97.,  90.]],\n",
       "\n",
       "       [[117., 107.,  93.],\n",
       "        [118., 108.,  94.],\n",
       "        [128., 121., 107.],\n",
       "        ...,\n",
       "        [103.,  99.,  92.],\n",
       "        [104., 100.,  93.],\n",
       "        [103., 100.,  93.]],\n",
       "\n",
       "       ...,\n",
       "\n",
       "       [[ 63.,  63.,  57.],\n",
       "        [ 84.,  79.,  69.],\n",
       "        [ 91.,  83.,  71.],\n",
       "        ...,\n",
       "        [173., 168., 150.],\n",
       "        [169., 163., 146.],\n",
       "        [167., 161., 144.]],\n",
       "\n",
       "       [[ 69.,  71.,  60.],\n",
       "        [ 83.,  80.,  68.],\n",
       "        [ 90.,  82.,  70.],\n",
       "        ...,\n",
       "        [146., 142., 130.],\n",
       "        [141., 137., 125.],\n",
       "        [138., 135., 122.]],\n",
       "\n",
       "       [[ 67.,  70.,  57.],\n",
       "        [ 82.,  81.,  70.],\n",
       "        [ 85.,  81.,  70.],\n",
       "        ...,\n",
       "        [  4.,   5.,   8.],\n",
       "        [  4.,   4.,  10.],\n",
       "        [  2.,   4.,   4.]]], dtype=float32)"
      ]
     },
     "execution_count": 13,
     "metadata": {},
     "output_type": "execute_result"
    }
   ],
   "source": [
    "x_test[0]*255"
   ]
  },
  {
   "cell_type": "code",
   "execution_count": 8,
   "metadata": {},
   "outputs": [],
   "source": [
    "IMG_SIZE = 400\n",
    "NUM_CHANNELS = 3\n",
    "NUM_FILTER = 16\n",
    "FILTER_SIZE = 3\n",
    "\n",
    "BATCH_SIZE = 16\n",
    "NUM_EPOCHS = 10"
   ]
  },
  {
   "cell_type": "code",
   "execution_count": 9,
   "metadata": {},
   "outputs": [
    {
     "name": "stdout",
     "output_type": "stream",
     "text": [
      "WARNING:tensorflow:From /Users/olivier/anaconda3/envs/ml/lib/python3.7/site-packages/tensorflow/python/ops/resource_variable_ops.py:435: colocate_with (from tensorflow.python.framework.ops) is deprecated and will be removed in a future version.\n",
      "Instructions for updating:\n",
      "Colocations handled automatically by placer.\n"
     ]
    }
   ],
   "source": [
    "model = unet_model(IMG_SIZE, NUM_CHANNELS, NUM_FILTER, FILTER_SIZE)"
   ]
  },
  {
   "cell_type": "code",
   "execution_count": 10,
   "metadata": {},
   "outputs": [
    {
     "name": "stdout",
     "output_type": "stream",
     "text": [
      "Train on 12 samples, validate on 3 samples\n",
      "WARNING:tensorflow:From /Users/olivier/anaconda3/envs/ml/lib/python3.7/site-packages/tensorflow/python/ops/math_ops.py:3066: to_int32 (from tensorflow.python.ops.math_ops) is deprecated and will be removed in a future version.\n",
      "Instructions for updating:\n",
      "Use tf.cast instead.\n",
      "Epoch 1/10\n",
      "12/12 [==============================] - 33s 3s/sample - loss: 14.7517 - acc: 0.1161 - val_loss: 2.9783 - val_acc: 0.0019\n",
      "Epoch 2/10\n",
      "12/12 [==============================] - 15s 1s/sample - loss: 14.1337 - acc: 0.0968 - val_loss: 3.0993 - val_acc: 0.0167\n",
      "Epoch 3/10\n",
      "12/12 [==============================] - 16s 1s/sample - loss: 13.5160 - acc: 0.0808 - val_loss: 4.3353 - val_acc: 0.0366\n",
      "Epoch 4/10\n",
      "12/12 [==============================] - 16s 1s/sample - loss: 12.9132 - acc: 0.0733 - val_loss: 9.4842 - val_acc: 0.0166\n",
      "Epoch 5/10\n",
      "12/12 [==============================] - 16s 1s/sample - loss: 12.3245 - acc: 0.0704 - val_loss: 20.7322 - val_acc: 0.0039\n",
      "Epoch 6/10\n",
      "12/12 [==============================] - 16s 1s/sample - loss: 11.7687 - acc: 0.0713 - val_loss: 30.0599 - val_acc: 0.0033\n",
      "Epoch 7/10\n",
      "12/12 [==============================] - 15s 1s/sample - loss: 11.2555 - acc: 0.0771 - val_loss: 35.0269 - val_acc: 0.0124\n",
      "Epoch 8/10\n",
      "12/12 [==============================] - 15s 1s/sample - loss: 10.8125 - acc: 0.0875 - val_loss: 37.6342 - val_acc: 0.0515\n",
      "Epoch 9/10\n",
      "12/12 [==============================] - 15s 1s/sample - loss: 10.4110 - acc: 0.1016 - val_loss: 38.7932 - val_acc: 0.0571\n",
      "Epoch 10/10\n",
      "12/12 [==============================] - 14s 1s/sample - loss: 10.0508 - acc: 0.1175 - val_loss: 39.2121 - val_acc: 0.0590\n",
      "\n",
      "history dict: {'loss': [14.751680374145508, 14.133720397949219, 13.515992164611816, 12.913200378417969, 12.32447624206543, 11.768670082092285, 11.2554931640625, 10.812529563903809, 10.410993576049805, 10.050751686096191], 'acc': [0.1160776, 0.09678281, 0.080820315, 0.07333177, 0.07036198, 0.07125989, 0.07712083, 0.08748229, 0.10160573, 0.11754063], 'val_loss': [2.97829008102417, 3.099259376525879, 4.335266590118408, 9.484216690063477, 20.732154846191406, 30.05994415283203, 35.02690505981445, 37.634193420410156, 38.79315948486328, 39.21214294433594], 'val_acc': [0.0019375, 0.01670625, 0.03655625, 0.016633334, 0.0039395834, 0.0033291667, 0.01241875, 0.051510416, 0.057133332, 0.058966666]}\n"
     ]
    }
   ],
   "source": [
    "model = train_model(model, x_train, y_train, x_val, y_val, BATCH_SIZE, NUM_EPOCHS)"
   ]
  },
  {
   "cell_type": "code",
   "execution_count": 11,
   "metadata": {},
   "outputs": [
    {
     "name": "stdout",
     "output_type": "stream",
     "text": [
      "\n",
      "# Evaluate on test data\n",
      "5/5 [==============================] - 3s 515ms/sample - loss: 60.7680 - acc: 0.0536\n",
      "test loss, test acc: [60.767974853515625, 0.053605]\n"
     ]
    }
   ],
   "source": [
    "# Evaluate the model on the test data using `evaluate`\n",
    "print('\\n# Evaluate on test data')\n",
    "results = model.evaluate(x_test, y_test)\n",
    "print('test loss, test acc:', results)"
   ]
  },
  {
   "cell_type": "code",
   "execution_count": 12,
   "metadata": {},
   "outputs": [
    {
     "name": "stdout",
     "output_type": "stream",
     "text": [
      "\n",
      "# Generate predictions for 3 samples\n",
      "predictions shape: (1, 400, 400, 1)\n"
     ]
    }
   ],
   "source": [
    "# Generate predictions (probabilities -- the output of the last layer)\n",
    "# on new data using `predict`\n",
    "print('\\n# Generate predictions for 3 samples')\n",
    "predictions = model.predict(x_test)\n",
    "print('predictions shape:', predictions.shape)"
   ]
  },
  {
   "cell_type": "code",
   "execution_count": null,
   "metadata": {},
   "outputs": [],
   "source": []
  }
 ],
 "metadata": {
  "kernelspec": {
   "display_name": "Python 3",
   "language": "python",
   "name": "python3"
  },
  "language_info": {
   "codemirror_mode": {
    "name": "ipython",
    "version": 3
   },
   "file_extension": ".py",
   "mimetype": "text/x-python",
   "name": "python",
   "nbconvert_exporter": "python",
   "pygments_lexer": "ipython3",
   "version": "3.7.4"
  },
  "pycharm": {
   "stem_cell": {
    "cell_type": "raw",
    "metadata": {
     "collapsed": false
    },
    "source": []
   }
  }
 },
 "nbformat": 4,
 "nbformat_minor": 2
}
